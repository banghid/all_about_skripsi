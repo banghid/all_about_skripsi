{
 "metadata": {
  "language_info": {
   "codemirror_mode": {
    "name": "ipython",
    "version": 3
   },
   "file_extension": ".py",
   "mimetype": "text/x-python",
   "name": "python",
   "nbconvert_exporter": "python",
   "pygments_lexer": "ipython3",
   "version": "3.8.5"
  },
  "orig_nbformat": 4,
  "kernelspec": {
   "name": "python3",
   "display_name": "Python 3.8.5 64-bit ('base': conda)"
  },
  "interpreter": {
   "hash": "380030d1298d5a27518acca789ff38fe82bbf2e68b73263de6a6bf23efb7704c"
  }
 },
 "nbformat": 4,
 "nbformat_minor": 2,
 "cells": [
  {
   "cell_type": "code",
   "execution_count": 1,
   "metadata": {},
   "outputs": [],
   "source": [
    "from bs4 import BeautifulSoup\n",
    "import pandas as pd \n",
    "import requests\n",
    "\n",
    "url = \"https://coinmarketcap.com/currencies/ripple/historical-data/?start=20130428&end=20180802\"\n",
    "\n",
    "content = requests.get(url).content\n",
    "soup = BeautifulSoup(content,'html.parser')\n",
    "table = soup.find('table', {'class': 'table'})"
   ]
  },
  {
   "cell_type": "code",
   "execution_count": 2,
   "metadata": {},
   "outputs": [
    {
     "output_type": "error",
     "ename": "AttributeError",
     "evalue": "'NoneType' object has no attribute 'findChildren'",
     "traceback": [
      "\u001b[1;31m---------------------------------------------------------------------------\u001b[0m",
      "\u001b[1;31mAttributeError\u001b[0m                            Traceback (most recent call last)",
      "\u001b[1;32m<ipython-input-2-6637e9b3eb3d>\u001b[0m in \u001b[0;36m<module>\u001b[1;34m\u001b[0m\n\u001b[0;32m      1\u001b[0m data = [[td.text.strip() for td in tr.findChildren('td')] \n\u001b[1;32m----> 2\u001b[1;33m         for tr in table.findChildren('tr')]\n\u001b[0m",
      "\u001b[1;31mAttributeError\u001b[0m: 'NoneType' object has no attribute 'findChildren'"
     ]
    }
   ],
   "source": [
    "data = [[td.text.strip() for td in tr.findChildren('td')] \n",
    "        for tr in table.findChildren('tr')]"
   ]
  },
  {
   "cell_type": "code",
   "execution_count": null,
   "metadata": {},
   "outputs": [],
   "source": [
    "df = pd.DataFrame(data)\n",
    "df.drop(df.index[0], inplace=True) # first row is empty\n",
    "df[0] =  pd.to_datetime(df[0]) # date\n",
    "for i in range(1,7):\n",
    "    df[i] = pd.to_numeric(df[i].str.replace(\",\",\"\").str.replace(\"-\",\"\")) # some vol is missing and has -\n",
    "df.columns = ['Date','Open','High','Low','Close','Volume','Market Cap']\n",
    "df.set_index('Date',inplace=True)\n",
    "df.sort_index(inplace=True)"
   ]
  }
 ]
}