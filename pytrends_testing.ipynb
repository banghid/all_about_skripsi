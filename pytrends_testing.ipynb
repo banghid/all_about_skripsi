{
 "metadata": {
  "language_info": {
   "codemirror_mode": {
    "name": "ipython",
    "version": 3
   },
   "file_extension": ".py",
   "mimetype": "text/x-python",
   "name": "python",
   "nbconvert_exporter": "python",
   "pygments_lexer": "ipython3",
   "version": "3.8.5"
  },
  "orig_nbformat": 4,
  "kernelspec": {
   "name": "python3",
   "display_name": "Python 3.8.5 64-bit ('base': conda)"
  },
  "interpreter": {
   "hash": "380030d1298d5a27518acca789ff38fe82bbf2e68b73263de6a6bf23efb7704c"
  }
 },
 "nbformat": 4,
 "nbformat_minor": 2,
 "cells": [
  {
   "cell_type": "code",
   "execution_count": 4,
   "metadata": {},
   "outputs": [],
   "source": [
    "import pandas as pd                        \n",
    "from pytrends.request import TrendReq\n",
    "pytrend = TrendReq()"
   ]
  },
  {
   "cell_type": "code",
   "execution_count": 5,
   "metadata": {},
   "outputs": [
    {
     "output_type": "execute_result",
     "data": {
      "text/plain": [
       "                   Taylor Swift\n",
       "geoName                        \n",
       "Afghanistan                   0\n",
       "Albania                       0\n",
       "Algeria                      14\n",
       "American Samoa                0\n",
       "Andorra                       0\n",
       "Angola                        0\n",
       "Anguilla                      0\n",
       "Antarctica                    0\n",
       "Antigua & Barbuda             0\n",
       "Argentina                    21"
      ],
      "text/html": "<div>\n<style scoped>\n    .dataframe tbody tr th:only-of-type {\n        vertical-align: middle;\n    }\n\n    .dataframe tbody tr th {\n        vertical-align: top;\n    }\n\n    .dataframe thead th {\n        text-align: right;\n    }\n</style>\n<table border=\"1\" class=\"dataframe\">\n  <thead>\n    <tr style=\"text-align: right;\">\n      <th></th>\n      <th>Taylor Swift</th>\n    </tr>\n    <tr>\n      <th>geoName</th>\n      <th></th>\n    </tr>\n  </thead>\n  <tbody>\n    <tr>\n      <th>Afghanistan</th>\n      <td>0</td>\n    </tr>\n    <tr>\n      <th>Albania</th>\n      <td>0</td>\n    </tr>\n    <tr>\n      <th>Algeria</th>\n      <td>14</td>\n    </tr>\n    <tr>\n      <th>American Samoa</th>\n      <td>0</td>\n    </tr>\n    <tr>\n      <th>Andorra</th>\n      <td>0</td>\n    </tr>\n    <tr>\n      <th>Angola</th>\n      <td>0</td>\n    </tr>\n    <tr>\n      <th>Anguilla</th>\n      <td>0</td>\n    </tr>\n    <tr>\n      <th>Antarctica</th>\n      <td>0</td>\n    </tr>\n    <tr>\n      <th>Antigua &amp; Barbuda</th>\n      <td>0</td>\n    </tr>\n    <tr>\n      <th>Argentina</th>\n      <td>21</td>\n    </tr>\n  </tbody>\n</table>\n</div>"
     },
     "metadata": {},
     "execution_count": 5
    }
   ],
   "source": [
    "pytrend.build_payload(kw_list=['Taylor Swift'])\n",
    "# Interest by Region\n",
    "df = pytrend.interest_by_region()\n",
    "df.head(10)"
   ]
  },
  {
   "cell_type": "code",
   "execution_count": 12,
   "metadata": {},
   "outputs": [
    {
     "output_type": "execute_result",
     "data": {
      "text/plain": [
       "                   bitcoin\n",
       "geoName                   \n",
       "Afghanistan              0\n",
       "Albania                  0\n",
       "Algeria                  0\n",
       "American Samoa           0\n",
       "Andorra                  0\n",
       "Angola                   0\n",
       "Anguilla                 0\n",
       "Antarctica               0\n",
       "Antigua & Barbuda        0\n",
       "Argentina               22"
      ],
      "text/html": "<div>\n<style scoped>\n    .dataframe tbody tr th:only-of-type {\n        vertical-align: middle;\n    }\n\n    .dataframe tbody tr th {\n        vertical-align: top;\n    }\n\n    .dataframe thead th {\n        text-align: right;\n    }\n</style>\n<table border=\"1\" class=\"dataframe\">\n  <thead>\n    <tr style=\"text-align: right;\">\n      <th></th>\n      <th>bitcoin</th>\n    </tr>\n    <tr>\n      <th>geoName</th>\n      <th></th>\n    </tr>\n  </thead>\n  <tbody>\n    <tr>\n      <th>Afghanistan</th>\n      <td>0</td>\n    </tr>\n    <tr>\n      <th>Albania</th>\n      <td>0</td>\n    </tr>\n    <tr>\n      <th>Algeria</th>\n      <td>0</td>\n    </tr>\n    <tr>\n      <th>American Samoa</th>\n      <td>0</td>\n    </tr>\n    <tr>\n      <th>Andorra</th>\n      <td>0</td>\n    </tr>\n    <tr>\n      <th>Angola</th>\n      <td>0</td>\n    </tr>\n    <tr>\n      <th>Anguilla</th>\n      <td>0</td>\n    </tr>\n    <tr>\n      <th>Antarctica</th>\n      <td>0</td>\n    </tr>\n    <tr>\n      <th>Antigua &amp; Barbuda</th>\n      <td>0</td>\n    </tr>\n    <tr>\n      <th>Argentina</th>\n      <td>22</td>\n    </tr>\n  </tbody>\n</table>\n</div>"
     },
     "metadata": {},
     "execution_count": 12
    }
   ],
   "source": [
    "pytrend.build_payload(kw_list=['bitcoin'])\n",
    "bitcoin_gtrend = pytrend.interest_by_region()\n",
    "bitcoin_gtrend.head(10)"
   ]
  },
  {
   "cell_type": "code",
   "execution_count": null,
   "metadata": {},
   "outputs": [],
   "source": []
  }
 ]
}