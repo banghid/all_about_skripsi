{
  "nbformat": 4,
  "nbformat_minor": 2,
  "metadata": {
    "colab": {
      "name": "bit_pred_gtrend.ipynb",
      "provenance": []
    },
    "kernelspec": {
      "name": "python3",
      "display_name": "Python 3"
    },
    "language_info": {
      "name": "python"
    },
    "accelerator": "GPU"
  },
  "cells": [
    {
      "cell_type": "code",
      "execution_count": null,
      "source": [
        "from google.colab import drive\r\n",
        "drive.mount('/content/drive')"
      ],
      "outputs": [
        {
          "output_type": "stream",
          "name": "stdout",
          "text": [
            "Mounted at /content/drive\n"
          ]
        }
      ],
      "metadata": {
        "colab": {
          "base_uri": "https://localhost:8080/"
        },
        "id": "0K63wXk2Ac-J",
        "outputId": "56ab292b-ac68-448a-a61c-a9486d244bdb"
      }
    },
    {
      "cell_type": "code",
      "execution_count": null,
      "source": [
        "import pandas as pd\r\n",
        "\r\n",
        "bitcoin_time_series = pd.read_csv(\"drive/MyDrive/File Skripsi/data_bitcoinity_full_daily.csv\", parse_dates = ['Time'])"
      ],
      "outputs": [],
      "metadata": {
        "id": "4DMjtLYDAsy3"
      }
    },
    {
      "cell_type": "code",
      "execution_count": null,
      "source": [
        "gtrend_time_series = pd.read_csv(\"drive/MyDrive/File Skripsi/daily_gtrend_data.csv\", parse_dates = ['date'])"
      ],
      "outputs": [],
      "metadata": {
        "id": "FCMwhXgIAzD6"
      }
    },
    {
      "cell_type": "code",
      "execution_count": null,
      "source": [
        "dataset = bitcoin_time_series.copy()\r\n",
        "dataset['gtrend'] = gtrend_time_series['bitcoin']"
      ],
      "outputs": [],
      "metadata": {
        "id": "dFcIPh_2BfGH"
      }
    },
    {
      "cell_type": "code",
      "execution_count": null,
      "source": [
        "dataset.corr()"
      ],
      "outputs": [
        {
          "output_type": "execute_result",
          "data": {
            "text/plain": [
              "           price    volume    gtrend\n",
              "price   1.000000  0.776318  0.658941\n",
              "volume  0.776318  1.000000  0.868976\n",
              "gtrend  0.658941  0.868976  1.000000"
            ],
            "text/html": [
              "<div>\n",
              "<style scoped>\n",
              "    .dataframe tbody tr th:only-of-type {\n",
              "        vertical-align: middle;\n",
              "    }\n",
              "\n",
              "    .dataframe tbody tr th {\n",
              "        vertical-align: top;\n",
              "    }\n",
              "\n",
              "    .dataframe thead th {\n",
              "        text-align: right;\n",
              "    }\n",
              "</style>\n",
              "<table border=\"1\" class=\"dataframe\">\n",
              "  <thead>\n",
              "    <tr style=\"text-align: right;\">\n",
              "      <th></th>\n",
              "      <th>price</th>\n",
              "      <th>volume</th>\n",
              "      <th>gtrend</th>\n",
              "    </tr>\n",
              "  </thead>\n",
              "  <tbody>\n",
              "    <tr>\n",
              "      <th>price</th>\n",
              "      <td>1.000000</td>\n",
              "      <td>0.776318</td>\n",
              "      <td>0.658941</td>\n",
              "    </tr>\n",
              "    <tr>\n",
              "      <th>volume</th>\n",
              "      <td>0.776318</td>\n",
              "      <td>1.000000</td>\n",
              "      <td>0.868976</td>\n",
              "    </tr>\n",
              "    <tr>\n",
              "      <th>gtrend</th>\n",
              "      <td>0.658941</td>\n",
              "      <td>0.868976</td>\n",
              "      <td>1.000000</td>\n",
              "    </tr>\n",
              "  </tbody>\n",
              "</table>\n",
              "</div>"
            ]
          },
          "metadata": {
            "tags": []
          },
          "execution_count": 5
        }
      ],
      "metadata": {
        "colab": {
          "base_uri": "https://localhost:8080/",
          "height": 142
        },
        "id": "S1ZclSjaBxcX",
        "outputId": "c581bea7-341a-40cf-a27b-f1dd07b9f71d"
      }
    },
    {
      "cell_type": "code",
      "execution_count": null,
      "source": [
        "del gtrend_time_series\r\n",
        "del bitcoin_time_series"
      ],
      "outputs": [],
      "metadata": {
        "id": "bYl2FU84M0Ul"
      }
    },
    {
      "cell_type": "code",
      "execution_count": null,
      "source": [
        "from patsy import dmatrices\r\n",
        "from statsmodels.stats.outliers_influence import variance_inflation_factor"
      ],
      "outputs": [
        {
          "output_type": "stream",
          "name": "stderr",
          "text": [
            "/usr/local/lib/python3.7/dist-packages/statsmodels/tools/_testing.py:19: FutureWarning: pandas.util.testing is deprecated. Use the functions in the public API at pandas.testing instead.\n",
            "  import pandas.util.testing as tm\n"
          ]
        }
      ],
      "metadata": {
        "id": "na7_e_Lh_e4p",
        "colab": {
          "base_uri": "https://localhost:8080/"
        },
        "outputId": "da5323ba-d772-4f47-82c9-afde60b23828"
      }
    },
    {
      "cell_type": "code",
      "execution_count": null,
      "source": [
        "#find design matrix for linear regression model using 'rating' as response variable \r\n",
        "y, X = dmatrices('price ~ volume+gtrend', data=dataset, return_type='dataframe')"
      ],
      "outputs": [],
      "metadata": {
        "id": "7sLrqSB0_lDt"
      }
    },
    {
      "cell_type": "code",
      "execution_count": null,
      "source": [
        "vif = pd.DataFrame()\r\n",
        "vif['VIF'] = [variance_inflation_factor(X.values, i) for i in range(X.shape[1])]\r\n",
        "vif['variable'] = X.columns"
      ],
      "outputs": [],
      "metadata": {
        "id": "zytIMBreBBEj"
      }
    },
    {
      "cell_type": "code",
      "execution_count": null,
      "source": [
        "vif"
      ],
      "outputs": [
        {
          "output_type": "execute_result",
          "data": {
            "text/plain": [
              "        VIF   variable\n",
              "0  1.357698  Intercept\n",
              "1  4.083625     volume\n",
              "2  4.083625     gtrend"
            ],
            "text/html": [
              "<div>\n",
              "<style scoped>\n",
              "    .dataframe tbody tr th:only-of-type {\n",
              "        vertical-align: middle;\n",
              "    }\n",
              "\n",
              "    .dataframe tbody tr th {\n",
              "        vertical-align: top;\n",
              "    }\n",
              "\n",
              "    .dataframe thead th {\n",
              "        text-align: right;\n",
              "    }\n",
              "</style>\n",
              "<table border=\"1\" class=\"dataframe\">\n",
              "  <thead>\n",
              "    <tr style=\"text-align: right;\">\n",
              "      <th></th>\n",
              "      <th>VIF</th>\n",
              "      <th>variable</th>\n",
              "    </tr>\n",
              "  </thead>\n",
              "  <tbody>\n",
              "    <tr>\n",
              "      <th>0</th>\n",
              "      <td>1.357698</td>\n",
              "      <td>Intercept</td>\n",
              "    </tr>\n",
              "    <tr>\n",
              "      <th>1</th>\n",
              "      <td>4.083625</td>\n",
              "      <td>volume</td>\n",
              "    </tr>\n",
              "    <tr>\n",
              "      <th>2</th>\n",
              "      <td>4.083625</td>\n",
              "      <td>gtrend</td>\n",
              "    </tr>\n",
              "  </tbody>\n",
              "</table>\n",
              "</div>"
            ]
          },
          "metadata": {
            "tags": []
          },
          "execution_count": 10
        }
      ],
      "metadata": {
        "colab": {
          "base_uri": "https://localhost:8080/",
          "height": 142
        },
        "id": "DRnsGuQbBFRI",
        "outputId": "30c4c709-218c-4840-ad21-5259d2608d45"
      }
    },
    {
      "cell_type": "code",
      "execution_count": null,
      "source": [
        "dataset.tail()"
      ],
      "outputs": [
        {
          "output_type": "execute_result",
          "data": {
            "text/plain": [
              "                          Time         price        volume  gtrend\n",
              "4031 2021-07-30 00:00:00+00:00  39659.762217  1.379564e+09    10.0\n",
              "4032 2021-07-31 00:00:00+00:00  41630.200677  8.353289e+08    10.0\n",
              "4033 2021-08-01 00:00:00+00:00  41465.818597  1.098162e+09    10.0\n",
              "4034 2021-08-02 00:00:00+00:00  39617.942317  9.836454e+08    11.0\n",
              "4035 2021-08-03 00:00:00+00:00  38499.216452  1.134831e+09     9.0"
            ],
            "text/html": [
              "<div>\n",
              "<style scoped>\n",
              "    .dataframe tbody tr th:only-of-type {\n",
              "        vertical-align: middle;\n",
              "    }\n",
              "\n",
              "    .dataframe tbody tr th {\n",
              "        vertical-align: top;\n",
              "    }\n",
              "\n",
              "    .dataframe thead th {\n",
              "        text-align: right;\n",
              "    }\n",
              "</style>\n",
              "<table border=\"1\" class=\"dataframe\">\n",
              "  <thead>\n",
              "    <tr style=\"text-align: right;\">\n",
              "      <th></th>\n",
              "      <th>Time</th>\n",
              "      <th>price</th>\n",
              "      <th>volume</th>\n",
              "      <th>gtrend</th>\n",
              "    </tr>\n",
              "  </thead>\n",
              "  <tbody>\n",
              "    <tr>\n",
              "      <th>4031</th>\n",
              "      <td>2021-07-30 00:00:00+00:00</td>\n",
              "      <td>39659.762217</td>\n",
              "      <td>1.379564e+09</td>\n",
              "      <td>10.0</td>\n",
              "    </tr>\n",
              "    <tr>\n",
              "      <th>4032</th>\n",
              "      <td>2021-07-31 00:00:00+00:00</td>\n",
              "      <td>41630.200677</td>\n",
              "      <td>8.353289e+08</td>\n",
              "      <td>10.0</td>\n",
              "    </tr>\n",
              "    <tr>\n",
              "      <th>4033</th>\n",
              "      <td>2021-08-01 00:00:00+00:00</td>\n",
              "      <td>41465.818597</td>\n",
              "      <td>1.098162e+09</td>\n",
              "      <td>10.0</td>\n",
              "    </tr>\n",
              "    <tr>\n",
              "      <th>4034</th>\n",
              "      <td>2021-08-02 00:00:00+00:00</td>\n",
              "      <td>39617.942317</td>\n",
              "      <td>9.836454e+08</td>\n",
              "      <td>11.0</td>\n",
              "    </tr>\n",
              "    <tr>\n",
              "      <th>4035</th>\n",
              "      <td>2021-08-03 00:00:00+00:00</td>\n",
              "      <td>38499.216452</td>\n",
              "      <td>1.134831e+09</td>\n",
              "      <td>9.0</td>\n",
              "    </tr>\n",
              "  </tbody>\n",
              "</table>\n",
              "</div>"
            ]
          },
          "metadata": {
            "tags": []
          },
          "execution_count": 11
        }
      ],
      "metadata": {
        "colab": {
          "base_uri": "https://localhost:8080/",
          "height": 204
        },
        "id": "ym_xjFJSOh1j",
        "outputId": "ff1f4783-7fc6-408e-a4f2-795dfd1e8f8c"
      }
    },
    {
      "cell_type": "code",
      "execution_count": null,
      "source": [
        "import numpy as np\r\n",
        "import matplotlib.pyplot as plt\r\n",
        "from sklearn.preprocessing import MinMaxScaler, StandardScaler\r\n",
        "import warnings\r\n",
        "warnings.filterwarnings('ignore')\r\n",
        "from scipy import stats\r\n",
        "%matplotlib inline\r\n",
        "import tensorflow as tf\r\n",
        "from tensorflow import keras\r\n",
        "from tensorflow.keras import Sequential, layers, callbacks\r\n",
        "from tensorflow.keras.layers import Dense, LSTM, Dropout, GRU, Bidirectional"
      ],
      "outputs": [],
      "metadata": {
        "id": "rnnkszC8OpOB"
      }
    },
    {
      "cell_type": "code",
      "execution_count": null,
      "source": [
        "def timeseries (x_axis, y_axis, x_label):\r\n",
        "    plt.figure(figsize = (10, 6))\r\n",
        "    plt.plot(x_axis, y_axis, color ='black')\r\n",
        "    plt.xlabel(x_label, {'fontsize': 12}) \r\n",
        "    plt.ylabel('Bitcoin Price ($m³$/capita.day)', \r\n",
        "                                  {'fontsize': 12})\r\n",
        "dataset_to_plt = dataset.copy()\r\n",
        "dataset_to_plt = dataset_to_plt.set_index('Time')\r\n",
        "timeseries(dataset_to_plt.index, dataset_to_plt['price'], 'Time (day)')\r\n",
        "dataset_to_plt['month'] = dataset_to_plt.index.month\r\n",
        "dataset_by_month = dataset_to_plt.resample('M').sum()\r\n",
        "timeseries(dataset_by_month.index, dataset_by_month['price'], \r\n",
        "           'Time(month)')\r\n",
        "dataset_to_plt['year'] = dataset_to_plt.index.year\r\n",
        "dataset_by_year = dataset_to_plt.resample('Y').sum()\r\n",
        "timeseries(dataset_by_year.index, dataset_by_year['price'], \r\n",
        "           'Time (month)')"
      ],
      "outputs": [
        {
          "output_type": "display_data",
          "data": {
            "text/plain": [
              "<Figure size 720x432 with 1 Axes>"
            ],
            "image/png": "[encoded data removed]"
          },
          "metadata": {
            "tags": [],
            "needs_background": "light"
          }
        },
        {
          "output_type": "display_data",
          "data": {
            "text/plain": [
              "<Figure size 720x432 with 1 Axes>"
            ],
            "image/png": "[encoded data removed]"
          },
          "metadata": {
            "tags": [],
            "needs_background": "light"
          }
        },
        {
          "output_type": "display_data",
          "data": {
            "text/plain": [
              "<Figure size 720x432 with 1 Axes>"
            ],
            "image/png": "[encoded data removed]"
          },
          "metadata": {
            "tags": [],
            "needs_background": "light"
          }
        }
      ],
      "metadata": {
        "colab": {
          "base_uri": "https://localhost:8080/",
          "height": 1000
        },
        "id": "U4WnY2lgOv_D",
        "outputId": "9dd2668c-3bc3-44ce-89ce-0c4619551fe8"
      }
    },
    {
      "cell_type": "code",
      "execution_count": null,
      "source": [
        "dataset.info()"
      ],
      "outputs": [
        {
          "output_type": "stream",
          "name": "stdout",
          "text": [
            "<class 'pandas.core.frame.DataFrame'>\n",
            "RangeIndex: 4036 entries, 0 to 4035\n",
            "Data columns (total 4 columns):\n",
            " #   Column  Non-Null Count  Dtype              \n",
            "---  ------  --------------  -----              \n",
            " 0   Time    4036 non-null   datetime64[ns, UTC]\n",
            " 1   price   4036 non-null   float64            \n",
            " 2   volume  4036 non-null   float64            \n",
            " 3   gtrend  4036 non-null   float64            \n",
            "dtypes: datetime64[ns, UTC](1), float64(3)\n",
            "memory usage: 126.2 KB\n"
          ]
        }
      ],
      "metadata": {
        "colab": {
          "base_uri": "https://localhost:8080/"
        },
        "id": "s_K8H5fKQ01N",
        "outputId": "0c683ab5-edd3-4131-fb7c-c03804696931"
      }
    },
    {
      "cell_type": "code",
      "execution_count": null,
      "source": [
        "# Check for missing values\r\n",
        "print('Total num of missing values:') \r\n",
        "print(dataset.price.isna().sum())\r\n",
        "print('')\r\n",
        "# Locate the missing value\r\n",
        "df_missing_date = dataset.loc[dataset.price.isna() == True]\r\n",
        "print('The date of missing value:')\r\n",
        "print(df_missing_date.loc[:,['Time']])\r\n",
        "# Replcase missing value with interpolation\r\n",
        "dataset.price.interpolate(inplace = True)\r\n",
        "# Keep WC and drop Date\r\n",
        "dataset = dataset.drop('Time', axis = 1)"
      ],
      "outputs": [
        {
          "output_type": "stream",
          "name": "stdout",
          "text": [
            "Total num of missing values:\n",
            "0\n",
            "\n",
            "The date of missing value:\n",
            "Empty DataFrame\n",
            "Columns: [Time]\n",
            "Index: []\n"
          ]
        }
      ],
      "metadata": {
        "colab": {
          "base_uri": "https://localhost:8080/"
        },
        "id": "pIiopehMRndm",
        "outputId": "015487bc-e5f4-4111-da85-b3d1fac4baef"
      }
    },
    {
      "cell_type": "code",
      "execution_count": null,
      "source": [
        "# Split train data and test data\r\n",
        "train_size = int(len(dataset)*0.8)\r\n",
        "print('Sequence length: ', int(len(dataset)))\r\n",
        "print(train_size)\r\n",
        "\r\n",
        "train_data = dataset.iloc[:train_size]\r\n",
        "test_data = dataset.iloc[train_size:]"
      ],
      "outputs": [
        {
          "output_type": "stream",
          "name": "stdout",
          "text": [
            "Sequence length:  4036\n",
            "3228\n"
          ]
        }
      ],
      "metadata": {
        "colab": {
          "base_uri": "https://localhost:8080/"
        },
        "id": "zoqDc6_gPiGq",
        "outputId": "bf643949-7cb3-4e50-9e22-09788b3e96bf"
      }
    },
    {
      "cell_type": "code",
      "execution_count": null,
      "source": [
        "#Scaling with Min Max\r\n",
        "scaler = MinMaxScaler().fit(train_data)\r\n",
        "train_scaled = scaler.transform(train_data)\r\n",
        "test_scaled = scaler.transform(test_data)"
      ],
      "outputs": [],
      "metadata": {
        "id": "5JZTWVg5P4C7"
      }
    },
    {
      "cell_type": "code",
      "execution_count": null,
      "source": [
        "# Create input dataset\r\n",
        "def create_dataset (X, look_back = 1):\r\n",
        "    Xs, ys = [], []\r\n",
        " \r\n",
        "    for i in range(len(X)-look_back):\r\n",
        "        v = X[i:i+look_back]\r\n",
        "        Xs.append(v)\r\n",
        "        ys.append(X[i+look_back])\r\n",
        " \r\n",
        "    return np.array(Xs), np.array(ys)\r\n",
        "LOOK_BACK = 30\r\n",
        "X_train, y_train = create_dataset(train_scaled,LOOK_BACK)\r\n",
        "X_test, y_test = create_dataset(test_scaled,LOOK_BACK)\r\n",
        "# Print data shape\r\n",
        "print('X_train.shape: ', X_train.shape)\r\n",
        "print('y_train.shape: ', y_train.shape)\r\n",
        "print('X_test.shape: ', X_test.shape) \r\n",
        "print('y_test.shape: ', y_test.shape)"
      ],
      "outputs": [
        {
          "output_type": "stream",
          "name": "stdout",
          "text": [
            "X_train.shape:  (3198, 30, 3)\n",
            "y_train.shape:  (3198, 3)\n",
            "X_test.shape:  (778, 30, 3)\n",
            "y_test.shape:  (778, 3)\n"
          ]
        }
      ],
      "metadata": {
        "colab": {
          "base_uri": "https://localhost:8080/"
        },
        "id": "xpHzSTbMR23r",
        "outputId": "5e747b93-fafd-4768-8dd4-fd92c2d960e6"
      }
    },
    {
      "cell_type": "code",
      "execution_count": null,
      "source": [
        "# Create GRU model\r\n",
        "def create_gru(units):\r\n",
        "    model = Sequential()\r\n",
        "    # Input layer\r\n",
        "    model.add(GRU (units = units, return_sequences = True, \r\n",
        "    input_shape = [X_train.shape[1], X_train.shape[2]]))\r\n",
        "    # model.add(Dropout(0.2)) \r\n",
        "    # Hidden layer\r\n",
        "    model.add(GRU(units = units)) \r\n",
        "    model.add(Dropout(0.2))\r\n",
        "    model.add(Dense(y_train.shape[1])) \r\n",
        "    #Compile model\r\n",
        "    model.compile(optimizer='adam',loss='mse')\r\n",
        "    return model\r\n",
        "model_gru = create_gru(64)"
      ],
      "outputs": [],
      "metadata": {
        "id": "UcNGVvgrR7Sr"
      }
    },
    {
      "cell_type": "code",
      "execution_count": null,
      "source": [
        "def fit_model(model):\r\n",
        "    early_stop = keras.callbacks.EarlyStopping(monitor = 'val_loss',\r\n",
        "                                               patience = 10)\r\n",
        "    cp_callback = tf.keras.callbacks.ModelCheckpoint(filepath='checkpoint_model',\r\n",
        "                                                 save_weights_only=True,\r\n",
        "                                                 verbose=1)\r\n",
        "    history = model.fit(X_train, y_train, epochs = 100,  \r\n",
        "                        validation_split = 0.2,\r\n",
        "                        batch_size = 16, shuffle = False, \r\n",
        "                        callbacks = [early_stop, cp_callback])\r\n",
        "    return history\r\n",
        "history_gru = fit_model(model_gru)"
      ],
      "outputs": [
        {
          "output_type": "stream",
          "name": "stdout",
          "text": [
            "Epoch 1/100\n",
            "160/160 [==============================] - 10s 10ms/step - loss: 9.6346e-05 - val_loss: 0.0122\n",
            "\n",
            "Epoch 00001: saving model to checkpoint_model\n",
            "Epoch 2/100\n",
            "160/160 [==============================] - 1s 6ms/step - loss: 2.4576e-04 - val_loss: 0.0148\n",
            "\n",
            "Epoch 00002: saving model to checkpoint_model\n",
            "Epoch 3/100\n",
            "160/160 [==============================] - 1s 6ms/step - loss: 2.8108e-04 - val_loss: 0.0166\n",
            "\n",
            "Epoch 00003: saving model to checkpoint_model\n",
            "Epoch 4/100\n",
            "160/160 [==============================] - 1s 6ms/step - loss: 2.1560e-04 - val_loss: 0.0090\n",
            "\n",
            "Epoch 00004: saving model to checkpoint_model\n",
            "Epoch 5/100\n",
            "160/160 [==============================] - 1s 6ms/step - loss: 1.1149e-04 - val_loss: 0.0047\n",
            "\n",
            "Epoch 00005: saving model to checkpoint_model\n",
            "Epoch 6/100\n",
            "160/160 [==============================] - 1s 6ms/step - loss: 5.6654e-05 - val_loss: 0.0044\n",
            "\n",
            "Epoch 00006: saving model to checkpoint_model\n",
            "Epoch 7/100\n",
            "160/160 [==============================] - 1s 6ms/step - loss: 4.9794e-05 - val_loss: 0.0039\n",
            "\n",
            "Epoch 00007: saving model to checkpoint_model\n",
            "Epoch 8/100\n",
            "160/160 [==============================] - 1s 6ms/step - loss: 4.8856e-05 - val_loss: 0.0038\n",
            "\n",
            "Epoch 00008: saving model to checkpoint_model\n",
            "Epoch 9/100\n",
            "160/160 [==============================] - 1s 6ms/step - loss: 4.4948e-05 - val_loss: 0.0034\n",
            "\n",
            "Epoch 00009: saving model to checkpoint_model\n",
            "Epoch 10/100\n",
            "160/160 [==============================] - 1s 6ms/step - loss: 3.9272e-05 - val_loss: 0.0033\n",
            "\n",
            "Epoch 00010: saving model to checkpoint_model\n",
            "Epoch 11/100\n",
            "160/160 [==============================] - 1s 6ms/step - loss: 3.9550e-05 - val_loss: 0.0033\n",
            "\n",
            "Epoch 00011: saving model to checkpoint_model\n",
            "Epoch 12/100\n",
            "160/160 [==============================] - 1s 6ms/step - loss: 3.5713e-05 - val_loss: 0.0033\n",
            "\n",
            "Epoch 00012: saving model to checkpoint_model\n",
            "Epoch 13/100\n",
            "160/160 [==============================] - 1s 6ms/step - loss: 3.7351e-05 - val_loss: 0.0030\n",
            "\n",
            "Epoch 00013: saving model to checkpoint_model\n",
            "Epoch 14/100\n",
            "160/160 [==============================] - 1s 6ms/step - loss: 3.7208e-05 - val_loss: 0.0033\n",
            "\n",
            "Epoch 00014: saving model to checkpoint_model\n",
            "Epoch 15/100\n",
            "160/160 [==============================] - 1s 6ms/step - loss: 3.6211e-05 - val_loss: 0.0035\n",
            "\n",
            "Epoch 00015: saving model to checkpoint_model\n",
            "Epoch 16/100\n",
            "160/160 [==============================] - 1s 6ms/step - loss: 3.3742e-05 - val_loss: 0.0034\n",
            "\n",
            "Epoch 00016: saving model to checkpoint_model\n",
            "Epoch 17/100\n",
            "160/160 [==============================] - 1s 6ms/step - loss: 3.4214e-05 - val_loss: 0.0037\n",
            "\n",
            "Epoch 00017: saving model to checkpoint_model\n",
            "Epoch 18/100\n",
            "160/160 [==============================] - 1s 6ms/step - loss: 3.3624e-05 - val_loss: 0.0038\n",
            "\n",
            "Epoch 00018: saving model to checkpoint_model\n",
            "Epoch 19/100\n",
            "160/160 [==============================] - 1s 6ms/step - loss: 3.4579e-05 - val_loss: 0.0037\n",
            "\n",
            "Epoch 00019: saving model to checkpoint_model\n",
            "Epoch 20/100\n",
            "160/160 [==============================] - 1s 6ms/step - loss: 3.2122e-05 - val_loss: 0.0035\n",
            "\n",
            "Epoch 00020: saving model to checkpoint_model\n",
            "Epoch 21/100\n",
            "160/160 [==============================] - 1s 6ms/step - loss: 3.0839e-05 - val_loss: 0.0034\n",
            "\n",
            "Epoch 00021: saving model to checkpoint_model\n",
            "Epoch 22/100\n",
            "160/160 [==============================] - 1s 6ms/step - loss: 3.1800e-05 - val_loss: 0.0036\n",
            "\n",
            "Epoch 00022: saving model to checkpoint_model\n",
            "Epoch 23/100\n",
            "160/160 [==============================] - 1s 6ms/step - loss: 3.3456e-05 - val_loss: 0.0044\n",
            "\n",
            "Epoch 00023: saving model to checkpoint_model\n"
          ]
        }
      ],
      "metadata": {
        "colab": {
          "base_uri": "https://localhost:8080/"
        },
        "id": "z1t8gz6dR_Ey",
        "outputId": "7565058b-8dbd-4071-d258-8b394ded00cb"
      }
    },
    {
      "cell_type": "code",
      "execution_count": null,
      "source": [
        "y_test = scaler.inverse_transform(y_test)\r\n",
        "y_train = scaler.inverse_transform(y_train)"
      ],
      "outputs": [],
      "metadata": {
        "id": "igh68QAVSB_B"
      }
    },
    {
      "cell_type": "code",
      "execution_count": null,
      "source": [
        "def plot_loss (history, model_name):\r\n",
        "    plt.figure(figsize = (10, 6))\r\n",
        "    plt.plot(history.history['loss'])\r\n",
        "    plt.plot(history.history['val_loss'])\r\n",
        "    plt.title('Model Train vs Validation Loss for ' + model_name)\r\n",
        "    plt.ylabel('Loss')\r\n",
        "    plt.xlabel('epoch')\r\n",
        "    plt.legend(['Train loss', 'Validation loss'], loc='upper right')\r\n",
        " \r\n",
        "plot_loss (history_gru, 'GRU')"
      ],
      "outputs": [
        {
          "output_type": "display_data",
          "data": {
            "text/plain": [
              "<Figure size 720x432 with 1 Axes>"
            ],
            "image/png": "[encoded data removed]"
          },
          "metadata": {
            "tags": [],
            "needs_background": "light"
          }
        }
      ],
      "metadata": {
        "colab": {
          "base_uri": "https://localhost:8080/",
          "height": 404
        },
        "id": "U5Ls-R5lSEKx",
        "outputId": "6d3cc1b5-ed9d-407b-a718-8750766390e2"
      }
    },
    {
      "cell_type": "code",
      "execution_count": null,
      "source": [
        "# Make prediction\r\n",
        "def prediction(model):\r\n",
        "    prediction = model.predict(X_test)\r\n",
        "    prediction = scaler.inverse_transform(prediction)\r\n",
        "    return prediction\r\n",
        "prediction_gru = prediction(model_gru)\r\n",
        "# prediction_bilstm = prediction(model_bilstm)\r\n",
        "# Plot test data vs prediction\r\n",
        "def plot_future(prediction, model_name, y_test):\r\n",
        "    plt.figure(figsize=(10, 6))\r\n",
        "    range_future = len(prediction)\r\n",
        "    plt.plot(np.arange(range_future), np.array(y_test), \r\n",
        "             label='Test   data')\r\n",
        "    plt.plot(np.arange(range_future), \r\n",
        "             np.array(prediction),label='Prediction')\r\n",
        "    plt.title('Test data vs prediction for ' + model_name)\r\n",
        "    plt.legend(loc='upper left')\r\n",
        "    plt.xlabel('Time (day)')\r\n",
        "    plt.ylabel('Daily bitcoin price ($m³$/capita.day)')\r\n",
        " \r\n",
        "plot_future(prediction_gru, 'GRU', y_test)"
      ],
      "outputs": [
        {
          "output_type": "display_data",
          "data": {
            "text/plain": [
              "<Figure size 720x432 with 1 Axes>"
            ],
            "image/png": "[encoded data removed]"
          },
          "metadata": {
            "tags": [],
            "needs_background": "light"
          }
        }
      ],
      "metadata": {
        "colab": {
          "base_uri": "https://localhost:8080/",
          "height": 404
        },
        "id": "WAQj_rMISGm5",
        "outputId": "98259900-876f-422d-9394-13b211058f69"
      }
    },
    {
      "cell_type": "code",
      "execution_count": null,
      "source": [
        "prediction_gru[1][:]"
      ],
      "outputs": [
        {
          "output_type": "execute_result",
          "data": {
            "text/plain": [
              "array([1.0224745e+04, 9.2906982e+08, 1.3385693e+01], dtype=float32)"
            ]
          },
          "metadata": {
            "tags": []
          },
          "execution_count": 26
        }
      ],
      "metadata": {
        "colab": {
          "base_uri": "https://localhost:8080/"
        },
        "id": "zFiQ_Q9QT1Oz",
        "outputId": "a92524a0-f731-4509-d645-0d43c431c5b1"
      }
    },
    {
      "cell_type": "code",
      "execution_count": null,
      "source": [
        "prediction_gru.shape"
      ],
      "outputs": [
        {
          "output_type": "execute_result",
          "data": {
            "text/plain": [
              "(778, 3)"
            ]
          },
          "metadata": {
            "tags": []
          },
          "execution_count": 39
        }
      ],
      "metadata": {
        "colab": {
          "base_uri": "https://localhost:8080/"
        },
        "id": "sOebab5AYO8b",
        "outputId": "d0b721d7-fd40-4555-8a50-992eb8c99b5b"
      }
    },
    {
      "cell_type": "code",
      "execution_count": null,
      "source": [
        "dataset.info()"
      ],
      "outputs": [
        {
          "output_type": "stream",
          "name": "stdout",
          "text": [
            "<class 'pandas.core.frame.DataFrame'>\n",
            "RangeIndex: 4036 entries, 0 to 4035\n",
            "Data columns (total 3 columns):\n",
            " #   Column  Non-Null Count  Dtype  \n",
            "---  ------  --------------  -----  \n",
            " 0   price   4036 non-null   float64\n",
            " 1   volume  4036 non-null   float64\n",
            " 2   gtrend  4036 non-null   float64\n",
            "dtypes: float64(3)\n",
            "memory usage: 94.7 KB\n"
          ]
        }
      ],
      "metadata": {
        "colab": {
          "base_uri": "https://localhost:8080/"
        },
        "id": "pRESd5dkZj8M",
        "outputId": "9e30320a-9af7-44cf-c1e0-99851122d516"
      }
    },
    {
      "cell_type": "code",
      "execution_count": null,
      "source": [
        "def evaluate_prediction(predictions, actual, model_name):\r\n",
        "    errors = predictions - actual\r\n",
        "    mse = np.square(errors).mean()\r\n",
        "    rmse = np.sqrt(mse)\r\n",
        "    mae = np.abs(errors).mean()\r\n",
        "    print(model_name + ':')\r\n",
        "    print('Mean Absolute Error: {:.4f}'.format(mae))\r\n",
        "    print('Root Mean Square Error: {:.4f}'.format(rmse))\r\n",
        "    print('')\r\n",
        "evaluate_prediction(prediction_gru, y_test, 'GRU')"
      ],
      "outputs": [
        {
          "output_type": "stream",
          "name": "stdout",
          "text": [
            "GRU:\n",
            "Mean Absolute Error: 463340347.5120\n",
            "Root Mean Square Error: 1137095248.6009\n",
            "\n"
          ]
        }
      ],
      "metadata": {
        "colab": {
          "base_uri": "https://localhost:8080/"
        },
        "id": "pRVMMDiZSI8q",
        "outputId": "2a3bf10a-d19b-485a-db0b-b090687dcfe5"
      }
    },
    {
      "cell_type": "code",
      "execution_count": null,
      "source": [
        "#saving model in h5 format\r\n",
        "model_gru.save('my_model_with_gtrend.h5')"
      ],
      "outputs": [],
      "metadata": {
        "id": "O7fCXwzYSLWD"
      }
    },
    {
      "cell_type": "code",
      "execution_count": null,
      "source": [
        "X_30 = np.array((30,3))"
      ],
      "outputs": [],
      "metadata": {
        "id": "lYpRpwPhqXjm"
      }
    },
    {
      "cell_type": "code",
      "execution_count": null,
      "source": [
        "X_30.shape"
      ],
      "outputs": [
        {
          "output_type": "execute_result",
          "data": {
            "text/plain": [
              "(2,)"
            ]
          },
          "metadata": {
            "tags": []
          },
          "execution_count": 38
        }
      ],
      "metadata": {
        "colab": {
          "base_uri": "https://localhost:8080/"
        },
        "id": "QjjH6mtwwhpC",
        "outputId": "aa844e58-02fc-40eb-a6de-b8351f375163"
      }
    },
    {
      "cell_type": "code",
      "execution_count": null,
      "source": [
        "# Make prediction for new data\r\n",
        "# Masih error\r\n",
        "def prediction(model):\r\n",
        "    prediction = model.predict(X_30)\r\n",
        "    prediction = scaler.inverse_transform(prediction)\r\n",
        "    return prediction\r\n",
        "prediction_gru = prediction(model_gru)\r\n",
        "# prediction_bilstm = prediction(model_bilstm)\r\n",
        "# Plot history and future\r\n",
        "def plot_multi_step(history, prediction1):\r\n",
        "    \r\n",
        "    plt.figure(figsize=(15, 6))\r\n",
        "    \r\n",
        "    range_history = len(history)\r\n",
        "    range_future = list(range(range_history, range_history +\r\n",
        "                        len(prediction1)))\r\n",
        "    plt.plot(np.arange(range_history), np.array(history), \r\n",
        "             label='History')\r\n",
        "    plt.plot(range_future, np.array(prediction1),\r\n",
        "             label='Forecasted for GRU')\r\n",
        "    # plt.plot(range_future, np.array(prediction2),\r\n",
        "    #          label='Forecasted for BiLSTM')\r\n",
        "      \r\n",
        "    plt.legend(loc='upper right')\r\n",
        "    plt.xlabel('Time step (day)')\r\n",
        "    plt.ylabel('Water demand (lit/day)')\r\n",
        "        \r\n",
        "plot_multi_step(new_data, prediction_gru)"
      ],
      "outputs": [
        {
          "output_type": "error",
          "ename": "ValueError",
          "evalue": "ignored",
          "traceback": [
            "\u001b[0;31m---------------------------------------------------------------------------\u001b[0m",
            "\u001b[0;31mValueError\u001b[0m                                Traceback (most recent call last)",
            "\u001b[0;32m<ipython-input-37-81a3b340645d>\u001b[0m in \u001b[0;36m<module>\u001b[0;34m()\u001b[0m\n\u001b[1;32m      4\u001b[0m     \u001b[0mprediction\u001b[0m \u001b[0;34m=\u001b[0m \u001b[0mscaler\u001b[0m\u001b[0;34m.\u001b[0m\u001b[0minverse_transform\u001b[0m\u001b[0;34m(\u001b[0m\u001b[0mprediction\u001b[0m\u001b[0;34m)\u001b[0m\u001b[0;34m\u001b[0m\u001b[0;34m\u001b[0m\u001b[0m\n\u001b[1;32m      5\u001b[0m     \u001b[0;32mreturn\u001b[0m \u001b[0mprediction\u001b[0m\u001b[0;34m\u001b[0m\u001b[0;34m\u001b[0m\u001b[0m\n\u001b[0;32m----> 6\u001b[0;31m \u001b[0mprediction_gru\u001b[0m \u001b[0;34m=\u001b[0m \u001b[0mprediction\u001b[0m\u001b[0;34m(\u001b[0m\u001b[0mmodel_gru\u001b[0m\u001b[0;34m)\u001b[0m\u001b[0;34m\u001b[0m\u001b[0;34m\u001b[0m\u001b[0m\n\u001b[0m\u001b[1;32m      7\u001b[0m \u001b[0;31m# prediction_bilstm = prediction(model_bilstm)\u001b[0m\u001b[0;34m\u001b[0m\u001b[0;34m\u001b[0m\u001b[0;34m\u001b[0m\u001b[0m\n\u001b[1;32m      8\u001b[0m \u001b[0;31m# Plot history and future\u001b[0m\u001b[0;34m\u001b[0m\u001b[0;34m\u001b[0m\u001b[0;34m\u001b[0m\u001b[0m\n",
            "\u001b[0;32m<ipython-input-37-81a3b340645d>\u001b[0m in \u001b[0;36mprediction\u001b[0;34m(model)\u001b[0m\n\u001b[1;32m      1\u001b[0m \u001b[0;31m# Make prediction for new data\u001b[0m\u001b[0;34m\u001b[0m\u001b[0;34m\u001b[0m\u001b[0;34m\u001b[0m\u001b[0m\n\u001b[1;32m      2\u001b[0m \u001b[0;32mdef\u001b[0m \u001b[0mprediction\u001b[0m\u001b[0;34m(\u001b[0m\u001b[0mmodel\u001b[0m\u001b[0;34m)\u001b[0m\u001b[0;34m:\u001b[0m\u001b[0;34m\u001b[0m\u001b[0;34m\u001b[0m\u001b[0m\n\u001b[0;32m----> 3\u001b[0;31m     \u001b[0mprediction\u001b[0m \u001b[0;34m=\u001b[0m \u001b[0mmodel\u001b[0m\u001b[0;34m.\u001b[0m\u001b[0mpredict\u001b[0m\u001b[0;34m(\u001b[0m\u001b[0mX_30\u001b[0m\u001b[0;34m)\u001b[0m\u001b[0;34m\u001b[0m\u001b[0;34m\u001b[0m\u001b[0m\n\u001b[0m\u001b[1;32m      4\u001b[0m     \u001b[0mprediction\u001b[0m \u001b[0;34m=\u001b[0m \u001b[0mscaler\u001b[0m\u001b[0;34m.\u001b[0m\u001b[0minverse_transform\u001b[0m\u001b[0;34m(\u001b[0m\u001b[0mprediction\u001b[0m\u001b[0;34m)\u001b[0m\u001b[0;34m\u001b[0m\u001b[0;34m\u001b[0m\u001b[0m\n\u001b[1;32m      5\u001b[0m     \u001b[0;32mreturn\u001b[0m \u001b[0mprediction\u001b[0m\u001b[0;34m\u001b[0m\u001b[0;34m\u001b[0m\u001b[0m\n",
            "\u001b[0;32m/usr/local/lib/python3.7/dist-packages/tensorflow/python/keras/engine/training.py\u001b[0m in \u001b[0;36mpredict\u001b[0;34m(self, x, batch_size, verbose, steps, callbacks, max_queue_size, workers, use_multiprocessing)\u001b[0m\n\u001b[1;32m   1725\u001b[0m           \u001b[0;32mfor\u001b[0m \u001b[0mstep\u001b[0m \u001b[0;32min\u001b[0m \u001b[0mdata_handler\u001b[0m\u001b[0;34m.\u001b[0m\u001b[0msteps\u001b[0m\u001b[0;34m(\u001b[0m\u001b[0;34m)\u001b[0m\u001b[0;34m:\u001b[0m\u001b[0;34m\u001b[0m\u001b[0;34m\u001b[0m\u001b[0m\n\u001b[1;32m   1726\u001b[0m             \u001b[0mcallbacks\u001b[0m\u001b[0;34m.\u001b[0m\u001b[0mon_predict_batch_begin\u001b[0m\u001b[0;34m(\u001b[0m\u001b[0mstep\u001b[0m\u001b[0;34m)\u001b[0m\u001b[0;34m\u001b[0m\u001b[0;34m\u001b[0m\u001b[0m\n\u001b[0;32m-> 1727\u001b[0;31m             \u001b[0mtmp_batch_outputs\u001b[0m \u001b[0;34m=\u001b[0m \u001b[0mself\u001b[0m\u001b[0;34m.\u001b[0m\u001b[0mpredict_function\u001b[0m\u001b[0;34m(\u001b[0m\u001b[0miterator\u001b[0m\u001b[0;34m)\u001b[0m\u001b[0;34m\u001b[0m\u001b[0;34m\u001b[0m\u001b[0m\n\u001b[0m\u001b[1;32m   1728\u001b[0m             \u001b[0;32mif\u001b[0m \u001b[0mdata_handler\u001b[0m\u001b[0;34m.\u001b[0m\u001b[0mshould_sync\u001b[0m\u001b[0;34m:\u001b[0m\u001b[0;34m\u001b[0m\u001b[0;34m\u001b[0m\u001b[0m\n\u001b[1;32m   1729\u001b[0m               \u001b[0mcontext\u001b[0m\u001b[0;34m.\u001b[0m\u001b[0masync_wait\u001b[0m\u001b[0;34m(\u001b[0m\u001b[0;34m)\u001b[0m\u001b[0;34m\u001b[0m\u001b[0;34m\u001b[0m\u001b[0m\n",
            "\u001b[0;32m/usr/local/lib/python3.7/dist-packages/tensorflow/python/eager/def_function.py\u001b[0m in \u001b[0;36m__call__\u001b[0;34m(self, *args, **kwds)\u001b[0m\n\u001b[1;32m    887\u001b[0m \u001b[0;34m\u001b[0m\u001b[0m\n\u001b[1;32m    888\u001b[0m       \u001b[0;32mwith\u001b[0m \u001b[0mOptionalXlaContext\u001b[0m\u001b[0;34m(\u001b[0m\u001b[0mself\u001b[0m\u001b[0;34m.\u001b[0m\u001b[0m_jit_compile\u001b[0m\u001b[0;34m)\u001b[0m\u001b[0;34m:\u001b[0m\u001b[0;34m\u001b[0m\u001b[0;34m\u001b[0m\u001b[0m\n\u001b[0;32m--> 889\u001b[0;31m         \u001b[0mresult\u001b[0m \u001b[0;34m=\u001b[0m \u001b[0mself\u001b[0m\u001b[0;34m.\u001b[0m\u001b[0m_call\u001b[0m\u001b[0;34m(\u001b[0m\u001b[0;34m*\u001b[0m\u001b[0margs\u001b[0m\u001b[0;34m,\u001b[0m \u001b[0;34m**\u001b[0m\u001b[0mkwds\u001b[0m\u001b[0;34m)\u001b[0m\u001b[0;34m\u001b[0m\u001b[0;34m\u001b[0m\u001b[0m\n\u001b[0m\u001b[1;32m    890\u001b[0m \u001b[0;34m\u001b[0m\u001b[0m\n\u001b[1;32m    891\u001b[0m       \u001b[0mnew_tracing_count\u001b[0m \u001b[0;34m=\u001b[0m \u001b[0mself\u001b[0m\u001b[0;34m.\u001b[0m\u001b[0mexperimental_get_tracing_count\u001b[0m\u001b[0;34m(\u001b[0m\u001b[0;34m)\u001b[0m\u001b[0;34m\u001b[0m\u001b[0;34m\u001b[0m\u001b[0m\n",
            "\u001b[0;32m/usr/local/lib/python3.7/dist-packages/tensorflow/python/eager/def_function.py\u001b[0m in \u001b[0;36m_call\u001b[0;34m(self, *args, **kwds)\u001b[0m\n\u001b[1;32m    922\u001b[0m       \u001b[0;31m# In this case we have not created variables on the first call. So we can\u001b[0m\u001b[0;34m\u001b[0m\u001b[0;34m\u001b[0m\u001b[0;34m\u001b[0m\u001b[0m\n\u001b[1;32m    923\u001b[0m       \u001b[0;31m# run the first trace but we should fail if variables are created.\u001b[0m\u001b[0;34m\u001b[0m\u001b[0;34m\u001b[0m\u001b[0;34m\u001b[0m\u001b[0m\n\u001b[0;32m--> 924\u001b[0;31m       \u001b[0mresults\u001b[0m \u001b[0;34m=\u001b[0m \u001b[0mself\u001b[0m\u001b[0;34m.\u001b[0m\u001b[0m_stateful_fn\u001b[0m\u001b[0;34m(\u001b[0m\u001b[0;34m*\u001b[0m\u001b[0margs\u001b[0m\u001b[0;34m,\u001b[0m \u001b[0;34m**\u001b[0m\u001b[0mkwds\u001b[0m\u001b[0;34m)\u001b[0m\u001b[0;34m\u001b[0m\u001b[0;34m\u001b[0m\u001b[0m\n\u001b[0m\u001b[1;32m    925\u001b[0m       \u001b[0;32mif\u001b[0m \u001b[0mself\u001b[0m\u001b[0;34m.\u001b[0m\u001b[0m_created_variables\u001b[0m\u001b[0;34m:\u001b[0m\u001b[0;34m\u001b[0m\u001b[0;34m\u001b[0m\u001b[0m\n\u001b[1;32m    926\u001b[0m         raise ValueError(\"Creating variables on a non-first call to a function\"\n",
            "\u001b[0;32m/usr/local/lib/python3.7/dist-packages/tensorflow/python/eager/function.py\u001b[0m in \u001b[0;36m__call__\u001b[0;34m(self, *args, **kwargs)\u001b[0m\n\u001b[1;32m   3020\u001b[0m     \u001b[0;32mwith\u001b[0m \u001b[0mself\u001b[0m\u001b[0;34m.\u001b[0m\u001b[0m_lock\u001b[0m\u001b[0;34m:\u001b[0m\u001b[0;34m\u001b[0m\u001b[0;34m\u001b[0m\u001b[0m\n\u001b[1;32m   3021\u001b[0m       (graph_function,\n\u001b[0;32m-> 3022\u001b[0;31m        filtered_flat_args) = self._maybe_define_function(args, kwargs)\n\u001b[0m\u001b[1;32m   3023\u001b[0m     return graph_function._call_flat(\n\u001b[1;32m   3024\u001b[0m         filtered_flat_args, captured_inputs=graph_function.captured_inputs)  # pylint: disable=protected-access\n",
            "\u001b[0;32m/usr/local/lib/python3.7/dist-packages/tensorflow/python/eager/function.py\u001b[0m in \u001b[0;36m_maybe_define_function\u001b[0;34m(self, args, kwargs)\u001b[0m\n\u001b[1;32m   3439\u001b[0m               call_context_key in self._function_cache.missed):\n\u001b[1;32m   3440\u001b[0m             return self._define_function_with_shape_relaxation(\n\u001b[0;32m-> 3441\u001b[0;31m                 args, kwargs, flat_args, filtered_flat_args, cache_key_context)\n\u001b[0m\u001b[1;32m   3442\u001b[0m \u001b[0;34m\u001b[0m\u001b[0m\n\u001b[1;32m   3443\u001b[0m           \u001b[0mself\u001b[0m\u001b[0;34m.\u001b[0m\u001b[0m_function_cache\u001b[0m\u001b[0;34m.\u001b[0m\u001b[0mmissed\u001b[0m\u001b[0;34m.\u001b[0m\u001b[0madd\u001b[0m\u001b[0;34m(\u001b[0m\u001b[0mcall_context_key\u001b[0m\u001b[0;34m)\u001b[0m\u001b[0;34m\u001b[0m\u001b[0;34m\u001b[0m\u001b[0m\n",
            "\u001b[0;32m/usr/local/lib/python3.7/dist-packages/tensorflow/python/eager/function.py\u001b[0m in \u001b[0;36m_define_function_with_shape_relaxation\u001b[0;34m(self, args, kwargs, flat_args, filtered_flat_args, cache_key_context)\u001b[0m\n\u001b[1;32m   3361\u001b[0m \u001b[0;34m\u001b[0m\u001b[0m\n\u001b[1;32m   3362\u001b[0m     graph_function = self._create_graph_function(\n\u001b[0;32m-> 3363\u001b[0;31m         args, kwargs, override_flat_arg_shapes=relaxed_arg_shapes)\n\u001b[0m\u001b[1;32m   3364\u001b[0m     \u001b[0mself\u001b[0m\u001b[0;34m.\u001b[0m\u001b[0m_function_cache\u001b[0m\u001b[0;34m.\u001b[0m\u001b[0marg_relaxed\u001b[0m\u001b[0;34m[\u001b[0m\u001b[0mrank_only_cache_key\u001b[0m\u001b[0;34m]\u001b[0m \u001b[0;34m=\u001b[0m \u001b[0mgraph_function\u001b[0m\u001b[0;34m\u001b[0m\u001b[0;34m\u001b[0m\u001b[0m\n\u001b[1;32m   3365\u001b[0m \u001b[0;34m\u001b[0m\u001b[0m\n",
            "\u001b[0;32m/usr/local/lib/python3.7/dist-packages/tensorflow/python/eager/function.py\u001b[0m in \u001b[0;36m_create_graph_function\u001b[0;34m(self, args, kwargs, override_flat_arg_shapes)\u001b[0m\n\u001b[1;32m   3287\u001b[0m             \u001b[0marg_names\u001b[0m\u001b[0;34m=\u001b[0m\u001b[0marg_names\u001b[0m\u001b[0;34m,\u001b[0m\u001b[0;34m\u001b[0m\u001b[0;34m\u001b[0m\u001b[0m\n\u001b[1;32m   3288\u001b[0m             \u001b[0moverride_flat_arg_shapes\u001b[0m\u001b[0;34m=\u001b[0m\u001b[0moverride_flat_arg_shapes\u001b[0m\u001b[0;34m,\u001b[0m\u001b[0;34m\u001b[0m\u001b[0;34m\u001b[0m\u001b[0m\n\u001b[0;32m-> 3289\u001b[0;31m             capture_by_value=self._capture_by_value),\n\u001b[0m\u001b[1;32m   3290\u001b[0m         \u001b[0mself\u001b[0m\u001b[0;34m.\u001b[0m\u001b[0m_function_attributes\u001b[0m\u001b[0;34m,\u001b[0m\u001b[0;34m\u001b[0m\u001b[0;34m\u001b[0m\u001b[0m\n\u001b[1;32m   3291\u001b[0m         \u001b[0mfunction_spec\u001b[0m\u001b[0;34m=\u001b[0m\u001b[0mself\u001b[0m\u001b[0;34m.\u001b[0m\u001b[0mfunction_spec\u001b[0m\u001b[0;34m,\u001b[0m\u001b[0;34m\u001b[0m\u001b[0;34m\u001b[0m\u001b[0m\n",
            "\u001b[0;32m/usr/local/lib/python3.7/dist-packages/tensorflow/python/framework/func_graph.py\u001b[0m in \u001b[0;36mfunc_graph_from_py_func\u001b[0;34m(name, python_func, args, kwargs, signature, func_graph, autograph, autograph_options, add_control_dependencies, arg_names, op_return_value, collections, capture_by_value, override_flat_arg_shapes)\u001b[0m\n\u001b[1;32m    997\u001b[0m         \u001b[0m_\u001b[0m\u001b[0;34m,\u001b[0m \u001b[0moriginal_func\u001b[0m \u001b[0;34m=\u001b[0m \u001b[0mtf_decorator\u001b[0m\u001b[0;34m.\u001b[0m\u001b[0munwrap\u001b[0m\u001b[0;34m(\u001b[0m\u001b[0mpython_func\u001b[0m\u001b[0;34m)\u001b[0m\u001b[0;34m\u001b[0m\u001b[0;34m\u001b[0m\u001b[0m\n\u001b[1;32m    998\u001b[0m \u001b[0;34m\u001b[0m\u001b[0m\n\u001b[0;32m--> 999\u001b[0;31m       \u001b[0mfunc_outputs\u001b[0m \u001b[0;34m=\u001b[0m \u001b[0mpython_func\u001b[0m\u001b[0;34m(\u001b[0m\u001b[0;34m*\u001b[0m\u001b[0mfunc_args\u001b[0m\u001b[0;34m,\u001b[0m \u001b[0;34m**\u001b[0m\u001b[0mfunc_kwargs\u001b[0m\u001b[0;34m)\u001b[0m\u001b[0;34m\u001b[0m\u001b[0;34m\u001b[0m\u001b[0m\n\u001b[0m\u001b[1;32m   1000\u001b[0m \u001b[0;34m\u001b[0m\u001b[0m\n\u001b[1;32m   1001\u001b[0m       \u001b[0;31m# invariant: `func_outputs` contains only Tensors, CompositeTensors,\u001b[0m\u001b[0;34m\u001b[0m\u001b[0;34m\u001b[0m\u001b[0;34m\u001b[0m\u001b[0m\n",
            "\u001b[0;32m/usr/local/lib/python3.7/dist-packages/tensorflow/python/eager/def_function.py\u001b[0m in \u001b[0;36mwrapped_fn\u001b[0;34m(*args, **kwds)\u001b[0m\n\u001b[1;32m    670\u001b[0m         \u001b[0;31m# the function a weak reference to itself to avoid a reference cycle.\u001b[0m\u001b[0;34m\u001b[0m\u001b[0;34m\u001b[0m\u001b[0;34m\u001b[0m\u001b[0m\n\u001b[1;32m    671\u001b[0m         \u001b[0;32mwith\u001b[0m \u001b[0mOptionalXlaContext\u001b[0m\u001b[0;34m(\u001b[0m\u001b[0mcompile_with_xla\u001b[0m\u001b[0;34m)\u001b[0m\u001b[0;34m:\u001b[0m\u001b[0;34m\u001b[0m\u001b[0;34m\u001b[0m\u001b[0m\n\u001b[0;32m--> 672\u001b[0;31m           \u001b[0mout\u001b[0m \u001b[0;34m=\u001b[0m \u001b[0mweak_wrapped_fn\u001b[0m\u001b[0;34m(\u001b[0m\u001b[0;34m)\u001b[0m\u001b[0;34m.\u001b[0m\u001b[0m__wrapped__\u001b[0m\u001b[0;34m(\u001b[0m\u001b[0;34m*\u001b[0m\u001b[0margs\u001b[0m\u001b[0;34m,\u001b[0m \u001b[0;34m**\u001b[0m\u001b[0mkwds\u001b[0m\u001b[0;34m)\u001b[0m\u001b[0;34m\u001b[0m\u001b[0;34m\u001b[0m\u001b[0m\n\u001b[0m\u001b[1;32m    673\u001b[0m         \u001b[0;32mreturn\u001b[0m \u001b[0mout\u001b[0m\u001b[0;34m\u001b[0m\u001b[0;34m\u001b[0m\u001b[0m\n\u001b[1;32m    674\u001b[0m \u001b[0;34m\u001b[0m\u001b[0m\n",
            "\u001b[0;32m/usr/local/lib/python3.7/dist-packages/tensorflow/python/framework/func_graph.py\u001b[0m in \u001b[0;36mwrapper\u001b[0;34m(*args, **kwargs)\u001b[0m\n\u001b[1;32m    984\u001b[0m           \u001b[0;32mexcept\u001b[0m \u001b[0mException\u001b[0m \u001b[0;32mas\u001b[0m \u001b[0me\u001b[0m\u001b[0;34m:\u001b[0m  \u001b[0;31m# pylint:disable=broad-except\u001b[0m\u001b[0;34m\u001b[0m\u001b[0;34m\u001b[0m\u001b[0m\n\u001b[1;32m    985\u001b[0m             \u001b[0;32mif\u001b[0m \u001b[0mhasattr\u001b[0m\u001b[0;34m(\u001b[0m\u001b[0me\u001b[0m\u001b[0;34m,\u001b[0m \u001b[0;34m\"ag_error_metadata\"\u001b[0m\u001b[0;34m)\u001b[0m\u001b[0;34m:\u001b[0m\u001b[0;34m\u001b[0m\u001b[0;34m\u001b[0m\u001b[0m\n\u001b[0;32m--> 986\u001b[0;31m               \u001b[0;32mraise\u001b[0m \u001b[0me\u001b[0m\u001b[0;34m.\u001b[0m\u001b[0mag_error_metadata\u001b[0m\u001b[0;34m.\u001b[0m\u001b[0mto_exception\u001b[0m\u001b[0;34m(\u001b[0m\u001b[0me\u001b[0m\u001b[0;34m)\u001b[0m\u001b[0;34m\u001b[0m\u001b[0;34m\u001b[0m\u001b[0m\n\u001b[0m\u001b[1;32m    987\u001b[0m             \u001b[0;32melse\u001b[0m\u001b[0;34m:\u001b[0m\u001b[0;34m\u001b[0m\u001b[0;34m\u001b[0m\u001b[0m\n\u001b[1;32m    988\u001b[0m               \u001b[0;32mraise\u001b[0m\u001b[0;34m\u001b[0m\u001b[0;34m\u001b[0m\u001b[0m\n",
            "\u001b[0;31mValueError\u001b[0m: in user code:\n\n    /usr/local/lib/python3.7/dist-packages/tensorflow/python/keras/engine/training.py:1569 predict_function  *\n        return step_function(self, iterator)\n    /usr/local/lib/python3.7/dist-packages/tensorflow/python/keras/engine/training.py:1559 step_function  **\n        outputs = model.distribute_strategy.run(run_step, args=(data,))\n    /usr/local/lib/python3.7/dist-packages/tensorflow/python/distribute/distribute_lib.py:1285 run\n        return self._extended.call_for_each_replica(fn, args=args, kwargs=kwargs)\n    /usr/local/lib/python3.7/dist-packages/tensorflow/python/distribute/distribute_lib.py:2833 call_for_each_replica\n        return self._call_for_each_replica(fn, args, kwargs)\n    /usr/local/lib/python3.7/dist-packages/tensorflow/python/distribute/distribute_lib.py:3608 _call_for_each_replica\n        return fn(*args, **kwargs)\n    /usr/local/lib/python3.7/dist-packages/tensorflow/python/keras/engine/training.py:1552 run_step  **\n        outputs = model.predict_step(data)\n    /usr/local/lib/python3.7/dist-packages/tensorflow/python/keras/engine/training.py:1525 predict_step\n        return self(x, training=False)\n    /usr/local/lib/python3.7/dist-packages/tensorflow/python/keras/engine/base_layer.py:1013 __call__\n        input_spec.assert_input_compatibility(self.input_spec, inputs, self.name)\n    /usr/local/lib/python3.7/dist-packages/tensorflow/python/keras/engine/input_spec.py:219 assert_input_compatibility\n        str(tuple(shape)))\n\n    ValueError: Input 0 of layer sequential is incompatible with the layer: expected ndim=3, found ndim=2. Full shape received: (None, 1)\n"
          ]
        }
      ],
      "metadata": {
        "colab": {
          "base_uri": "https://localhost:8080/",
          "height": 731
        },
        "id": "E4JqaRjeqWLN",
        "outputId": "2e352784-160a-4b08-9660-6701be5e6fb6"
      }
    }
  ]
}